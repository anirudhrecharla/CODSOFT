{
  "nbformat": 4,
  "nbformat_minor": 0,
  "metadata": {
    "colab": {
      "provenance": [],
      "authorship_tag": "ABX9TyP9C9V7CjESWpMIohYoeNab",
      "include_colab_link": true
    },
    "kernelspec": {
      "name": "python3",
      "display_name": "Python 3"
    },
    "language_info": {
      "name": "python"
    }
  },
  "cells": [
    {
      "cell_type": "markdown",
      "metadata": {
        "id": "view-in-github",
        "colab_type": "text"
      },
      "source": [
        "<a href=\"https://colab.research.google.com/github/anirudhrecharla/CODSOFT/blob/main/AI_TASK_2.ipynb\" target=\"_parent\"><img src=\"https://colab.research.google.com/assets/colab-badge.svg\" alt=\"Open In Colab\"/></a>"
      ]
    },
    {
      "cell_type": "markdown",
      "source": [
        "#**TIC-TAC-TOE AI**"
      ],
      "metadata": {
        "id": "HnH3fVwSwAhi"
      }
    },
    {
      "cell_type": "code",
      "execution_count": null,
      "metadata": {
        "colab": {
          "base_uri": "https://localhost:8080/"
        },
        "id": "qgL5aaRFv9EY",
        "outputId": "5556be66-72e6-4e8e-ffac-f58a933289d2"
      },
      "outputs": [
        {
          "output_type": "stream",
          "name": "stdout",
          "text": [
            "🎮 Welcome to Tic-Tac-Toe! You're X, and the AI is O.\n",
            "\n",
            "\n",
            "  |   |  \n",
            "-----\n",
            "  |   |  \n",
            "-----\n",
            "  |   |  \n",
            "\n",
            "\n"
          ]
        }
      ],
      "source": [
        "import math\n",
        "\n",
        "# Initialize the board\n",
        "board = [' ' for _ in range(9)]\n",
        "\n",
        "def print_board():\n",
        "    print(\"\\n\")\n",
        "    for i in range(3):\n",
        "        print(\" | \".join(board[i*3:(i+1)*3]))\n",
        "        if i < 2:\n",
        "            print(\"-\" * 5)\n",
        "    print(\"\\n\")\n",
        "\n",
        "def is_winner(b, player):\n",
        "    win_conditions = [\n",
        "        [0,1,2], [3,4,5], [6,7,8],  # Rows\n",
        "        [0,3,6], [1,4,7], [2,5,8],  # Columns\n",
        "        [0,4,8], [2,4,6]            # Diagonals\n",
        "    ]\n",
        "    return any(b[i] == b[j] == b[k] == player for i, j, k in win_conditions)\n",
        "\n",
        "def is_draw(b):\n",
        "    return ' ' not in b\n",
        "\n",
        "def player_move():\n",
        "    while True:\n",
        "        try:\n",
        "            move = int(input(\"Enter your move (1-9): \")) - 1\n",
        "            if board[move] == ' ':\n",
        "                board[move] = 'X'\n",
        "                break\n",
        "            else:\n",
        "                print(\"That spot is already taken.\")\n",
        "        except (IndexError, ValueError):\n",
        "            print(\"Invalid move. Choose from 1 to 9.\")\n",
        "\n",
        "def ai_move():\n",
        "    best_score = -math.inf\n",
        "    best_move = None\n",
        "    for i in range(9):\n",
        "        if board[i] == ' ':\n",
        "            board[i] = 'O'\n",
        "            score = minimax(board, 0, False)\n",
        "            board[i] = ' '\n",
        "            if score > best_score:\n",
        "                best_score = score\n",
        "                best_move = i\n",
        "    board[best_move] = 'O'\n",
        "\n",
        "def minimax(b, depth, is_maximizing):\n",
        "    if is_winner(b, 'O'):\n",
        "        return 1\n",
        "    if is_winner(b, 'X'):\n",
        "        return -1\n",
        "    if is_draw(b):\n",
        "        return 0\n",
        "\n",
        "    if is_maximizing:\n",
        "        best_score = -math.inf\n",
        "        for i in range(9):\n",
        "            if b[i] == ' ':\n",
        "                b[i] = 'O'\n",
        "                score = minimax(b, depth + 1, False)\n",
        "                b[i] = ' '\n",
        "                best_score = max(score, best_score)\n",
        "        return best_score\n",
        "    else:\n",
        "        best_score = math.inf\n",
        "        for i in range(9):\n",
        "            if b[i] == ' ':\n",
        "                b[i] = 'X'\n",
        "                score = minimax(b, depth + 1, True)\n",
        "                b[i] = ' '\n",
        "                best_score = min(score, best_score)\n",
        "        return best_score\n",
        "\n",
        "def main():\n",
        "    print(\"🎮 Welcome to Tic-Tac-Toe! You're X, and the AI is O.\")\n",
        "    print_board()\n",
        "\n",
        "    while True:\n",
        "        player_move()\n",
        "        print_board()\n",
        "        if is_winner(board, 'X'):\n",
        "            print(\"🎉 You win!\")\n",
        "            break\n",
        "        if is_draw(board):\n",
        "            print(\"🤝 It's a draw!\")\n",
        "            break\n",
        "\n",
        "        print(\"🤖 AI's turn...\")\n",
        "        ai_move()\n",
        "        print_board()\n",
        "        if is_winner(board, 'O'):\n",
        "            print(\"💻 AI wins!\")\n",
        "            break\n",
        "        if is_draw(board):\n",
        "            print(\"🤝 It's a draw!\")\n",
        "            break\n",
        "\n",
        "# Run the game\n",
        "main()\n"
      ]
    }
  ]
}