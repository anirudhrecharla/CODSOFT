{
  "nbformat": 4,
  "nbformat_minor": 0,
  "metadata": {
    "colab": {
      "provenance": [],
      "authorship_tag": "ABX9TyPHfNXLDMmJMFfGzJLgenc4",
      "include_colab_link": true
    },
    "kernelspec": {
      "name": "python3",
      "display_name": "Python 3"
    },
    "language_info": {
      "name": "python"
    }
  },
  "cells": [
    {
      "cell_type": "markdown",
      "metadata": {
        "id": "view-in-github",
        "colab_type": "text"
      },
      "source": [
        "<a href=\"https://colab.research.google.com/github/anirudhrecharla/CODSOFT/blob/main/AI_TASK_1.ipynb\" target=\"_parent\"><img src=\"https://colab.research.google.com/assets/colab-badge.svg\" alt=\"Open In Colab\"/></a>"
      ]
    },
    {
      "cell_type": "markdown",
      "source": [
        "#**CHATBOT WITH RULE-BASED RESPONSES**"
      ],
      "metadata": {
        "id": "mwNQ6pS8vkZq"
      }
    },
    {
      "cell_type": "code",
      "source": [
        "import re\n",
        "from datetime import datetime\n",
        "\n",
        "def chatbot():\n",
        "    print(\"🤖 Chatbot: Hello! I'm your friendly chatbot. Type 'bye' to exit.\")\n",
        "\n",
        "    while True:\n",
        "        user_input = input(\"You: \").lower()\n",
        "\n",
        "        if user_input == 'bye':\n",
        "            print(\"🤖 Chatbot: Goodbye! Have a great day!\")\n",
        "            break\n",
        "\n",
        "        # Rule-based responses\n",
        "        elif re.search(r'\\bhello\\b|\\bhi\\b|\\bhey\\b', user_input):\n",
        "            print(\"🤖 Chatbot: Hello there! How can I help you today?\")\n",
        "\n",
        "        elif re.search(r'\\bhow are you\\b', user_input):\n",
        "            print(\"🤖 Chatbot: I'm just a bunch of code, but I'm doing great! Thanks for asking.\")\n",
        "\n",
        "        elif re.search(r'\\bname\\b', user_input):\n",
        "            print(\"🤖 Chatbot: I’m just a simple chatbot without a fancy name yet!\")\n",
        "\n",
        "        elif re.search(r'\\bhelp\\b', user_input):\n",
        "            print(\"🤖 Chatbot: Sure! I'm here to help. Ask me anything.\")\n",
        "\n",
        "        elif re.search(r'\\btime\\b', user_input):\n",
        "            print(f\"The current time is {datetime.now().strftime('%H:%M:%S')}.\")\n",
        "\n",
        "        elif re.search(r'\\bdate\\b', user_input):\n",
        "            print(f\"Today's date is {datetime.now().strftime('%d-%m-%Y')}.\")\n",
        "\n",
        "        elif re.search(r'\\bweather\\b', user_input):\n",
        "            print(\"🤖 Chatbot: I can’t check the weather now, but it’s always a good day to code!\")\n",
        "\n",
        "        else:\n",
        "            print(\"🤖 Chatbot: I'm not sure how to respond to that. Can you ask something else?\")\n",
        "\n",
        "# Run the chatbot\n",
        "chatbot()"
      ],
      "metadata": {
        "colab": {
          "base_uri": "https://localhost:8080/"
        },
        "id": "fVw2n1_rqbnj",
        "outputId": "c6b59b62-b78f-455b-ac34-929de3e84ab3"
      },
      "execution_count": null,
      "outputs": [
        {
          "output_type": "stream",
          "name": "stdout",
          "text": [
            "🤖 Chatbot: Hello! I'm your friendly chatbot. Type 'bye' to exit.\n",
            "You: hello\n",
            "🤖 Chatbot: Hello there! How can I help you today?\n",
            "You: how are you\n",
            "🤖 Chatbot: I'm just a bunch of code, but I'm doing great! Thanks for asking.\n",
            "You: your name\n",
            "🤖 Chatbot: I’m just a simple chatbot without a fancy name yet!\n",
            "You: help\n",
            "🤖 Chatbot: Sure! I'm here to help. Ask me anything.\n",
            "You: date\n",
            "Today's date is 19-06-2025.\n",
            "You: weather\n",
            "🤖 Chatbot: I can’t check the weather now, but it’s always a good day to code!\n",
            "You: bye\n",
            "🤖 Chatbot: Goodbye! Have a great day!\n"
          ]
        }
      ]
    }
  ]
}